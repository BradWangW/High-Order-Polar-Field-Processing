{
 "cells": [
  {
   "cell_type": "code",
   "execution_count": 6,
   "metadata": {},
   "outputs": [],
   "source": [
    "import numpy as np\n",
    "def find_indices(A, B):\n",
    "    # Convert A and B to tuples for easy comparison\n",
    "    A_tuples = [tuple(row) for row in A]\n",
    "    B_tuples = [tuple(row) for row in B]\n",
    "\n",
    "    # Create a dictionary to map rows in A to their indices\n",
    "    A_dict = {row: idx for idx, row in enumerate(A_tuples)}\n",
    "\n",
    "    # Find the indices of rows in B as they appear in A\n",
    "    indices = [A_dict[row] for row in B_tuples]\n",
    "\n",
    "    return np.array(indices)"
   ]
  },
  {
   "cell_type": "code",
   "execution_count": 7,
   "metadata": {},
   "outputs": [
    {
     "name": "stdout",
     "output_type": "stream",
     "text": [
      "[1 3 0]\n"
     ]
    }
   ],
   "source": [
    "A = np.array([[1, 2], [3, 4], [5, 6], [7, 8], [9, 10], [11, 12]])\n",
    "B = np.array([[3, 4], [7, 8], [1, 2]])\n",
    "\n",
    "indices = find_indices(A, B)\n",
    "print(indices)"
   ]
  },
  {
   "cell_type": "code",
   "execution_count": null,
   "metadata": {},
   "outputs": [],
   "source": []
  }
 ],
 "metadata": {
  "kernelspec": {
   "display_name": "cggs",
   "language": "python",
   "name": "python3"
  },
  "language_info": {
   "codemirror_mode": {
    "name": "ipython",
    "version": 3
   },
   "file_extension": ".py",
   "mimetype": "text/x-python",
   "name": "python",
   "nbconvert_exporter": "python",
   "pygments_lexer": "ipython3",
   "version": "3.11.8"
  }
 },
 "nbformat": 4,
 "nbformat_minor": 2
}
