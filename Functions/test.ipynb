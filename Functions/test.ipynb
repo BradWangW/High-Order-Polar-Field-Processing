{
 "cells": [
  {
   "cell_type": "code",
   "execution_count": 2,
   "metadata": {},
   "outputs": [],
   "source": [
    "from Auxiliary import *\n",
    "import numpy as np"
   ]
  },
  {
   "cell_type": "code",
   "execution_count": 3,
   "metadata": {},
   "outputs": [],
   "source": [
    "V = np.array([\n",
    "    [1, 1, 1], [1, -1, -1], [-1, 1, -1], [-1, -1, 1]\n",
    "], dtype=float)\n",
    "F = np.array([\n",
    "    [0, 1, 2], [0, 2, 3], [0, 3, 1], [1, 3, 2]\n",
    "])\n",
    "# singularities = np.array([[0.2, 0.2, 0], [0.4, 0.4, 0]])\n",
    "singularities = np.array([[1/3, 1/3, -1/3], [-1, -1, 1]])\n",
    "indices = [1, 1]\n",
    "v_init = 0\n",
    "z_init = 1j+1"
   ]
  },
  {
   "cell_type": "code",
   "execution_count": 4,
   "metadata": {},
   "outputs": [],
   "source": [
    "B1, B2, normals = compute_planes_F(V, F)"
   ]
  },
  {
   "cell_type": "code",
   "execution_count": 5,
   "metadata": {},
   "outputs": [
    {
     "data": {
      "text/plain": [
       "array([[ 0.        , -0.70710678, -0.70710678],\n",
       "       [-0.70710678,  0.        , -0.70710678],\n",
       "       [-0.70710678, -0.70710678,  0.        ],\n",
       "       [-0.70710678,  0.        ,  0.70710678]])"
      ]
     },
     "execution_count": 5,
     "metadata": {},
     "output_type": "execute_result"
    }
   ],
   "source": [
    "B1"
   ]
  },
  {
   "cell_type": "code",
   "execution_count": 6,
   "metadata": {},
   "outputs": [
    {
     "data": {
      "text/plain": [
       "array([[-0.81649658,  0.40824829, -0.40824829],\n",
       "       [-0.40824829, -0.81649658,  0.40824829],\n",
       "       [ 0.40824829, -0.40824829, -0.81649658],\n",
       "       [-0.40824829,  0.81649658, -0.40824829]])"
      ]
     },
     "execution_count": 6,
     "metadata": {},
     "output_type": "execute_result"
    }
   ],
   "source": [
    "B2"
   ]
  },
  {
   "cell_type": "code",
   "execution_count": null,
   "metadata": {},
   "outputs": [],
   "source": []
  }
 ],
 "metadata": {
  "kernelspec": {
   "display_name": "Python 3",
   "language": "python",
   "name": "python3"
  },
  "language_info": {
   "codemirror_mode": {
    "name": "ipython",
    "version": 3
   },
   "file_extension": ".py",
   "mimetype": "text/x-python",
   "name": "python",
   "nbconvert_exporter": "python",
   "pygments_lexer": "ipython3",
   "version": "3.10.12"
  }
 },
 "nbformat": 4,
 "nbformat_minor": 2
}
